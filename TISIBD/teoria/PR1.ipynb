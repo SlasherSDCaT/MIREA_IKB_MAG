{
  "nbformat": 4,
  "nbformat_minor": 0,
  "metadata": {
    "colab": {
      "provenance": []
    },
    "kernelspec": {
      "name": "python3",
      "display_name": "Python 3"
    },
    "language_info": {
      "name": "python"
    }
  },
  "cells": [
    {
      "cell_type": "code",
      "execution_count": 2,
      "metadata": {
        "id": "xcn8qMvedMLO"
      },
      "outputs": [],
      "source": [
        "import pandas as pd\n",
        "from catboost import CatBoostClassifier\n",
        "from sklearn.model_selection import train_test_split\n",
        "from sklearn.linear_model import LogisticRegression\n",
        "from sklearn.metrics import mean_squared_error\n",
        "import numpy as np"
      ]
    },
    {
      "cell_type": "code",
      "source": [
        "!pip install catboost -q"
      ],
      "metadata": {
        "colab": {
          "base_uri": "https://localhost:8080/"
        },
        "id": "XpeeVG1D09QG",
        "outputId": "e0a3a3ae-58a1-4cbf-c9aa-8f71c2f698a2"
      },
      "execution_count": 1,
      "outputs": [
        {
          "output_type": "stream",
          "name": "stdout",
          "text": [
            "Collecting catboost\n",
            "  Downloading catboost-1.2.8-cp312-cp312-manylinux2014_x86_64.whl.metadata (1.2 kB)\n",
            "Requirement already satisfied: graphviz in /usr/local/lib/python3.12/dist-packages (from catboost) (0.21)\n",
            "Requirement already satisfied: matplotlib in /usr/local/lib/python3.12/dist-packages (from catboost) (3.10.0)\n",
            "Requirement already satisfied: numpy<3.0,>=1.16.0 in /usr/local/lib/python3.12/dist-packages (from catboost) (2.0.2)\n",
            "Requirement already satisfied: pandas>=0.24 in /usr/local/lib/python3.12/dist-packages (from catboost) (2.2.2)\n",
            "Requirement already satisfied: scipy in /usr/local/lib/python3.12/dist-packages (from catboost) (1.16.1)\n",
            "Requirement already satisfied: plotly in /usr/local/lib/python3.12/dist-packages (from catboost) (5.24.1)\n",
            "Requirement already satisfied: six in /usr/local/lib/python3.12/dist-packages (from catboost) (1.17.0)\n",
            "Requirement already satisfied: python-dateutil>=2.8.2 in /usr/local/lib/python3.12/dist-packages (from pandas>=0.24->catboost) (2.9.0.post0)\n",
            "Requirement already satisfied: pytz>=2020.1 in /usr/local/lib/python3.12/dist-packages (from pandas>=0.24->catboost) (2025.2)\n",
            "Requirement already satisfied: tzdata>=2022.7 in /usr/local/lib/python3.12/dist-packages (from pandas>=0.24->catboost) (2025.2)\n",
            "Requirement already satisfied: contourpy>=1.0.1 in /usr/local/lib/python3.12/dist-packages (from matplotlib->catboost) (1.3.3)\n",
            "Requirement already satisfied: cycler>=0.10 in /usr/local/lib/python3.12/dist-packages (from matplotlib->catboost) (0.12.1)\n",
            "Requirement already satisfied: fonttools>=4.22.0 in /usr/local/lib/python3.12/dist-packages (from matplotlib->catboost) (4.59.2)\n",
            "Requirement already satisfied: kiwisolver>=1.3.1 in /usr/local/lib/python3.12/dist-packages (from matplotlib->catboost) (1.4.9)\n",
            "Requirement already satisfied: packaging>=20.0 in /usr/local/lib/python3.12/dist-packages (from matplotlib->catboost) (25.0)\n",
            "Requirement already satisfied: pillow>=8 in /usr/local/lib/python3.12/dist-packages (from matplotlib->catboost) (11.3.0)\n",
            "Requirement already satisfied: pyparsing>=2.3.1 in /usr/local/lib/python3.12/dist-packages (from matplotlib->catboost) (3.2.3)\n",
            "Requirement already satisfied: tenacity>=6.2.0 in /usr/local/lib/python3.12/dist-packages (from plotly->catboost) (8.5.0)\n",
            "Downloading catboost-1.2.8-cp312-cp312-manylinux2014_x86_64.whl (99.2 MB)\n",
            "\u001b[2K   \u001b[90m━━━━━━━━━━━━━━━━━━━━━━━━━━━━━━━━━━━━━━━━\u001b[0m \u001b[32m99.2/99.2 MB\u001b[0m \u001b[31m7.9 MB/s\u001b[0m eta \u001b[36m0:00:00\u001b[0m\n",
            "\u001b[?25hInstalling collected packages: catboost\n",
            "Successfully installed catboost-1.2.8\n"
          ]
        }
      ]
    },
    {
      "cell_type": "code",
      "source": [
        "df = pd.read_excel(\"/content/diabetes (1).xlsx\")  # sep=\"\\t\" для табуляции\n",
        "print(df.head())"
      ],
      "metadata": {
        "id": "qaqSYuBLdZ-m",
        "colab": {
          "base_uri": "https://localhost:8080/"
        },
        "outputId": "8d9547d0-6a63-4815-8a9d-0b0fa201766b"
      },
      "execution_count": 3,
      "outputs": [
        {
          "output_type": "stream",
          "name": "stdout",
          "text": [
            "   Беременность  Глюкоза  АД  Толщина КС  Инсулин   ИМТ  Наследственность  \\\n",
            "0             6      148  72        35.0      0.0  33.6             0.627   \n",
            "1             1       85  66        29.0      0.0  26.6             0.351   \n",
            "2             8      183  64         0.0      0.0  23.3             0.672   \n",
            "3             1       89  66        23.0     94.0  28.1             0.167   \n",
            "4             0      137  40        35.0    168.0  43.1             2.288   \n",
            "\n",
            "   Возраст  Диагноз  \n",
            "0       50        1  \n",
            "1       31        0  \n",
            "2       32        1  \n",
            "3       21        0  \n",
            "4       33        1  \n"
          ]
        }
      ]
    },
    {
      "cell_type": "code",
      "source": [
        "df.shape"
      ],
      "metadata": {
        "colab": {
          "base_uri": "https://localhost:8080/"
        },
        "id": "xokIfRJ4gDSq",
        "outputId": "18e15d8e-a764-4faa-9cd0-805b267860ca"
      },
      "execution_count": 47,
      "outputs": [
        {
          "output_type": "execute_result",
          "data": {
            "text/plain": [
              "(768, 9)"
            ]
          },
          "metadata": {},
          "execution_count": 47
        }
      ]
    },
    {
      "cell_type": "code",
      "source": [
        "df[\"Наследственность\"]"
      ],
      "metadata": {
        "colab": {
          "base_uri": "https://localhost:8080/",
          "height": 458
        },
        "id": "pEGEqjl7kUji",
        "outputId": "36d4604a-0692-42e4-db19-7e46ceff6f6e"
      },
      "execution_count": null,
      "outputs": [
        {
          "output_type": "execute_result",
          "data": {
            "text/plain": [
              "0      0.627\n",
              "1      0.351\n",
              "2      0.672\n",
              "3      0.167\n",
              "4      2.288\n",
              "       ...  \n",
              "763    0.171\n",
              "764     0.34\n",
              "765    0.245\n",
              "766    0.349\n",
              "767    0.315\n",
              "Name: Наследственность, Length: 768, dtype: object"
            ],
            "text/html": [
              "<div>\n",
              "<style scoped>\n",
              "    .dataframe tbody tr th:only-of-type {\n",
              "        vertical-align: middle;\n",
              "    }\n",
              "\n",
              "    .dataframe tbody tr th {\n",
              "        vertical-align: top;\n",
              "    }\n",
              "\n",
              "    .dataframe thead th {\n",
              "        text-align: right;\n",
              "    }\n",
              "</style>\n",
              "<table border=\"1\" class=\"dataframe\">\n",
              "  <thead>\n",
              "    <tr style=\"text-align: right;\">\n",
              "      <th></th>\n",
              "      <th>Наследственность</th>\n",
              "    </tr>\n",
              "  </thead>\n",
              "  <tbody>\n",
              "    <tr>\n",
              "      <th>0</th>\n",
              "      <td>0.627</td>\n",
              "    </tr>\n",
              "    <tr>\n",
              "      <th>1</th>\n",
              "      <td>0.351</td>\n",
              "    </tr>\n",
              "    <tr>\n",
              "      <th>2</th>\n",
              "      <td>0.672</td>\n",
              "    </tr>\n",
              "    <tr>\n",
              "      <th>3</th>\n",
              "      <td>0.167</td>\n",
              "    </tr>\n",
              "    <tr>\n",
              "      <th>4</th>\n",
              "      <td>2.288</td>\n",
              "    </tr>\n",
              "    <tr>\n",
              "      <th>...</th>\n",
              "      <td>...</td>\n",
              "    </tr>\n",
              "    <tr>\n",
              "      <th>763</th>\n",
              "      <td>0.171</td>\n",
              "    </tr>\n",
              "    <tr>\n",
              "      <th>764</th>\n",
              "      <td>0.34</td>\n",
              "    </tr>\n",
              "    <tr>\n",
              "      <th>765</th>\n",
              "      <td>0.245</td>\n",
              "    </tr>\n",
              "    <tr>\n",
              "      <th>766</th>\n",
              "      <td>0.349</td>\n",
              "    </tr>\n",
              "    <tr>\n",
              "      <th>767</th>\n",
              "      <td>0.315</td>\n",
              "    </tr>\n",
              "  </tbody>\n",
              "</table>\n",
              "<p>768 rows × 1 columns</p>\n",
              "</div><br><label><b>dtype:</b> object</label>"
            ]
          },
          "metadata": {},
          "execution_count": 33
        }
      ]
    },
    {
      "cell_type": "code",
      "source": [
        "df.dtypes"
      ],
      "metadata": {
        "colab": {
          "base_uri": "https://localhost:8080/",
          "height": 366
        },
        "id": "PQ3ch5YNgLFp",
        "outputId": "7d59932e-5dec-4e04-ed35-43436cdbb941"
      },
      "execution_count": 48,
      "outputs": [
        {
          "output_type": "execute_result",
          "data": {
            "text/plain": [
              "Беременность          int64\n",
              "Глюкоза               int64\n",
              "АД                    int64\n",
              "Толщина КС          float64\n",
              "Инсулин             float64\n",
              "ИМТ                 float64\n",
              "Наследственность    float64\n",
              "Возраст               int64\n",
              "Диагноз               int64\n",
              "dtype: object"
            ],
            "text/html": [
              "<div>\n",
              "<style scoped>\n",
              "    .dataframe tbody tr th:only-of-type {\n",
              "        vertical-align: middle;\n",
              "    }\n",
              "\n",
              "    .dataframe tbody tr th {\n",
              "        vertical-align: top;\n",
              "    }\n",
              "\n",
              "    .dataframe thead th {\n",
              "        text-align: right;\n",
              "    }\n",
              "</style>\n",
              "<table border=\"1\" class=\"dataframe\">\n",
              "  <thead>\n",
              "    <tr style=\"text-align: right;\">\n",
              "      <th></th>\n",
              "      <th>0</th>\n",
              "    </tr>\n",
              "  </thead>\n",
              "  <tbody>\n",
              "    <tr>\n",
              "      <th>Беременность</th>\n",
              "      <td>int64</td>\n",
              "    </tr>\n",
              "    <tr>\n",
              "      <th>Глюкоза</th>\n",
              "      <td>int64</td>\n",
              "    </tr>\n",
              "    <tr>\n",
              "      <th>АД</th>\n",
              "      <td>int64</td>\n",
              "    </tr>\n",
              "    <tr>\n",
              "      <th>Толщина КС</th>\n",
              "      <td>float64</td>\n",
              "    </tr>\n",
              "    <tr>\n",
              "      <th>Инсулин</th>\n",
              "      <td>float64</td>\n",
              "    </tr>\n",
              "    <tr>\n",
              "      <th>ИМТ</th>\n",
              "      <td>float64</td>\n",
              "    </tr>\n",
              "    <tr>\n",
              "      <th>Наследственность</th>\n",
              "      <td>float64</td>\n",
              "    </tr>\n",
              "    <tr>\n",
              "      <th>Возраст</th>\n",
              "      <td>int64</td>\n",
              "    </tr>\n",
              "    <tr>\n",
              "      <th>Диагноз</th>\n",
              "      <td>int64</td>\n",
              "    </tr>\n",
              "  </tbody>\n",
              "</table>\n",
              "</div><br><label><b>dtype:</b> object</label>"
            ]
          },
          "metadata": {},
          "execution_count": 48
        }
      ]
    },
    {
      "cell_type": "code",
      "source": [
        "X = df.drop(columns=['Диагноз']).values.astype(float)\n",
        "y = df['Диагноз'].values.astype(int)\n",
        "X_train, X_test, y_train, y_test = train_test_split(X, y, train_size=70, random_state=42)"
      ],
      "metadata": {
        "id": "t6xH85aid1EV"
      },
      "execution_count": 4,
      "outputs": []
    },
    {
      "cell_type": "code",
      "source": [
        "def sigmoid(z):\n",
        "    return 1 / (1 + np.exp(-z))\n",
        "\n",
        "def fit_gd(X, y, lr=0.1, epochs=10000, tol=1e-6):\n",
        "    n, m = X.shape\n",
        "    Xb = np.hstack([np.ones((n, 1)), X])\n",
        "    w = np.zeros(m + 1)\n",
        "    prev_loss = np.inf\n",
        "\n",
        "    for _ in range(epochs):\n",
        "        z = Xb.dot(w)\n",
        "        p = sigmoid(z)\n",
        "        eps = 1e-12\n",
        "        loss = -np.mean(y * np.log(p + eps) + (1 - y) * np.log(1 - p + eps))\n",
        "        grad = Xb.T.dot(p - y) / n\n",
        "        w -= lr * grad\n",
        "        if abs(prev_loss - loss) < tol:\n",
        "            break\n",
        "        prev_loss = loss\n",
        "    return w"
      ],
      "metadata": {
        "id": "E1pkUaLZhPus"
      },
      "execution_count": 5,
      "outputs": []
    },
    {
      "cell_type": "code",
      "source": [
        "w = fit_gd(X, y, lr=0.5, epochs=20000)\n",
        "print(\"Найденные коэффициенты (градиентный спуск):\", w)"
      ],
      "metadata": {
        "colab": {
          "base_uri": "https://localhost:8080/"
        },
        "id": "YxRr2mlIhQpD",
        "outputId": "44587ca9-73f4-4db6-ee20-34d1b0941b40"
      },
      "execution_count": 7,
      "outputs": [
        {
          "output_type": "stream",
          "name": "stderr",
          "text": [
            "/tmp/ipython-input-1583694105.py:2: RuntimeWarning: overflow encountered in exp\n",
            "  return 1 / (1 + np.exp(-z))\n"
          ]
        },
        {
          "output_type": "stream",
          "name": "stdout",
          "text": [
            "Найденные коэффициенты (градиентный спуск): [-336.50357852  154.19821469   21.25701915  -37.11911031   -0.52750835\n",
            "    2.94347277    9.74125593   78.31777378  -12.54150199]\n"
          ]
        }
      ]
    },
    {
      "cell_type": "code",
      "source": [
        "model = LogisticRegression()\n",
        "model.fit(X_train, y_train)  # просто инициализация\n",
        "\n",
        "model.intercept_ = np.array([w[0]])\n",
        "model.coef_ = np.array([w[1:]])\n",
        "\n",
        "print(\"Интерсепт sklearn:\", model.intercept_)\n",
        "print(\"Коэффициенты sklearn:\", model.coef_)\n"
      ],
      "metadata": {
        "colab": {
          "base_uri": "https://localhost:8080/"
        },
        "id": "J7SWo4Cwt-7j",
        "outputId": "013933d0-d9ed-4d54-db04-f7fed90c4fb4"
      },
      "execution_count": 8,
      "outputs": [
        {
          "output_type": "stream",
          "name": "stdout",
          "text": [
            "Интерсепт sklearn: [-336.50357852]\n",
            "Коэффициенты sklearn: [[154.19821469  21.25701915 -37.11911031  -0.52750835   2.94347277\n",
            "    9.74125593  78.31777378 -12.54150199]]\n"
          ]
        },
        {
          "output_type": "stream",
          "name": "stderr",
          "text": [
            "/usr/local/lib/python3.12/dist-packages/sklearn/linear_model/_logistic.py:465: ConvergenceWarning: lbfgs failed to converge (status=1):\n",
            "STOP: TOTAL NO. OF ITERATIONS REACHED LIMIT.\n",
            "\n",
            "Increase the number of iterations (max_iter) or scale the data as shown in:\n",
            "    https://scikit-learn.org/stable/modules/preprocessing.html\n",
            "Please also refer to the documentation for alternative solver options:\n",
            "    https://scikit-learn.org/stable/modules/linear_model.html#logistic-regression\n",
            "  n_iter_i = _check_optimize_result(\n"
          ]
        }
      ]
    },
    {
      "cell_type": "code",
      "source": [
        "y_prob = model.predict_proba(X_test)[:, 1]  # берем вероятность класса 1\n",
        "\n",
        "mse = mean_squared_error(y_test, y_prob)\n",
        "print(\"MSE на всей выборке:\", mse)"
      ],
      "metadata": {
        "colab": {
          "base_uri": "https://localhost:8080/"
        },
        "id": "9a5AY6qJuWoR",
        "outputId": "141b35d6-a74e-4379-c73b-454475caedec"
      },
      "execution_count": 9,
      "outputs": [
        {
          "output_type": "stream",
          "name": "stdout",
          "text": [
            "MSE на всей выборке: 0.40301310001580226\n"
          ]
        }
      ]
    },
    {
      "cell_type": "code",
      "source": [
        "feature_cols = [c for c in df.columns if c != \"Диагноз\"]\n",
        "m = len(feature_cols)\n",
        "\n",
        "corr_abs = df[feature_cols + [\"Диагноз\"]].corr()[\"Диагноз\"].abs().drop(\"Диагноз\")\n",
        "corr_abs = corr_abs.sort_values(ascending=False)\n",
        "k = m - 2\n",
        "selected_features = list(corr_abs.index[:k])\n",
        "print(\"Выбранные признаки:\", selected_features)\n",
        "X_sel = df[selected_features].values"
      ],
      "metadata": {
        "colab": {
          "base_uri": "https://localhost:8080/"
        },
        "id": "Bmj1U4AnzrZP",
        "outputId": "46ae44fd-4bd0-4b9c-83e2-e9260201040b"
      },
      "execution_count": 10,
      "outputs": [
        {
          "output_type": "stream",
          "name": "stdout",
          "text": [
            "Выбранные признаки: ['Глюкоза', 'ИМТ', 'Возраст', 'Беременность', 'Наследственность', 'Инсулин']\n"
          ]
        }
      ]
    },
    {
      "cell_type": "code",
      "source": [
        "model = CatBoostClassifier(iterations=1000, learning_rate=0.05, depth=6, cat_features=[])\n",
        "model.fit(X_train, y_train, eval_set=(X_test, y_test), verbose=200)\n",
        "\n",
        "y_pred = model.predict(X_test)\n",
        "\n",
        "y_prob = model.predict_proba(X_test)[:, 1]\n",
        "\n",
        "mse = mean_squared_error(y_test, y_prob)\n",
        "print(f\"MSE на тестовой выборке для CatBoost: {mse:.4f}\")"
      ],
      "metadata": {
        "colab": {
          "base_uri": "https://localhost:8080/"
        },
        "id": "H6dS4WAV0uhJ",
        "outputId": "9baa7f86-9839-49e1-ba86-c2d7560aeb35"
      },
      "execution_count": 11,
      "outputs": [
        {
          "output_type": "stream",
          "name": "stdout",
          "text": [
            "0:\tlearn: 0.6613750\ttest: 0.6769265\tbest: 0.6769265 (0)\ttotal: 49.4ms\tremaining: 49.4s\n",
            "200:\tlearn: 0.0195069\ttest: 0.6759879\tbest: 0.5170158 (32)\ttotal: 316ms\tremaining: 1.25s\n",
            "400:\tlearn: 0.0079949\ttest: 0.7970169\tbest: 0.5170158 (32)\ttotal: 457ms\tremaining: 683ms\n",
            "600:\tlearn: 0.0051155\ttest: 0.8663639\tbest: 0.5170158 (32)\ttotal: 599ms\tremaining: 398ms\n",
            "800:\tlearn: 0.0037525\ttest: 0.9129602\tbest: 0.5170158 (32)\ttotal: 754ms\tremaining: 187ms\n",
            "999:\tlearn: 0.0029185\ttest: 0.9456608\tbest: 0.5170158 (32)\ttotal: 896ms\tremaining: 0us\n",
            "\n",
            "bestTest = 0.5170158275\n",
            "bestIteration = 32\n",
            "\n",
            "Shrink model to first 33 iterations.\n",
            "MSE на тестовой выборке для CatBoost: 0.1723\n"
          ]
        }
      ]
    }
  ]
}